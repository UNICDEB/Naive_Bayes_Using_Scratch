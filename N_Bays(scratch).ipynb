{
 "cells": [
  {
   "cell_type": "code",
   "execution_count": 8,
   "metadata": {},
   "outputs": [],
   "source": [
    "from sklearn.model_selection import train_test_split\n",
    "from sklearn import datasets\n",
    "from sklearn.metrics import classification_report\n",
    "import numpy as np\n",
    "import pandas as pd"
   ]
  },
  {
   "cell_type": "code",
   "execution_count": 9,
   "metadata": {},
   "outputs": [],
   "source": [
    "class NaiveBayes:\n",
    "    def fit(self,X,y):\n",
    "        n_samples, n_features = X.shape\n",
    "        self._classes = np.unique(y)\n",
    "        n_classes = len(self._classes)\n",
    "        \n",
    "        self._mean = np.zeros((n_classes, n_features), dtype = np.float64)\n",
    "        self._var = np.zeros((n_classes, n_features), dtype = np.float64)\n",
    "        self._priors = np.zeros(n_classes, dtype=np.float64)\n",
    "        \n",
    "        \n",
    "        for c in self._classes:\n",
    "            X_c=X[c==y]\n",
    "            self._mean[c,:]= X_c.mean(axis = 0)\n",
    "            self._var[c,:]= X_c.var(axis=0)\n",
    "            self._priors[c]= X_c.shape[0] / float(n_samples)\n",
    "    def predict(self,X):\n",
    "        y_pred= [self._predict(x) for x in X]\n",
    "        return y_pred\n",
    "    \n",
    "    \n",
    "    def _predict(self,x):\n",
    "        posteriors = []\n",
    "        \n",
    "        for idx, c in enumerate(self._classes):\n",
    "            prior = np.log(self._priors[idx])\n",
    "            class_conditional = np.sum(np.log(self._pdf(idx,x)))\n",
    "            posterior = prior + class_conditional\n",
    "            posteriors.append(posterior)\n",
    "            \n",
    "        return self._classes[np.argmax(posteriors)]\n",
    "            \n",
    "            \n",
    "    def _pdf(self,class_idx, x):\n",
    "        mean = self._mean[class_idx]\n",
    "        var = self._var[class_idx]\n",
    "        numerator = np.exp(- (x-mean)**2/ (2*var))\n",
    "        denominator = np.sqrt(2*np.pi * var)\n",
    "        return numerator / denominator\n",
    "    "
   ]
  },
  {
   "cell_type": "code",
   "execution_count": 10,
   "metadata": {},
   "outputs": [],
   "source": []
  },
  {
   "cell_type": "code",
   "execution_count": 11,
   "metadata": {},
   "outputs": [
    {
     "name": "stdout",
     "output_type": "stream",
     "text": [
      "Classification accuracy :  0.9666666666666667\n",
      "\n",
      "\n",
      "Confusion matrix: \n",
      "[[13  0  0]\n",
      " [ 0  6  0]\n",
      " [ 0  1 10]]\n",
      "\n",
      "Classification Report is : \n",
      "              precision    recall  f1-score   support\n",
      "\n",
      "           0       1.00      1.00      1.00        13\n",
      "           1       0.86      1.00      0.92         6\n",
      "           2       1.00      0.91      0.95        11\n",
      "\n",
      "    accuracy                           0.97        30\n",
      "   macro avg       0.95      0.97      0.96        30\n",
      "weighted avg       0.97      0.97      0.97        30\n",
      "\n"
     ]
    }
   ],
   "source": [
    "def accuracy(y_true, y_pred):\n",
    "    accuracy = np.sum(y_true==y_pred) / len(y_true)\n",
    "    return accuracy\n",
    "\n",
    "myiris = datasets.load_iris()\n",
    "X = myiris.data\n",
    "y = myiris.target\n",
    "\n",
    "\n",
    "X_train, X_test, y_train, y_test = train_test_split(X, y, test_size=0.2, random_state=123)\n",
    "\n",
    "nb = NaiveBayes()\n",
    "nb.fit(X_train, y_train)\n",
    "predictions = nb.predict(X_test)\n",
    "\n",
    "print(\"Classification accuracy : \",accuracy(y_test, predictions))\n",
    "\n",
    "from sklearn.metrics import confusion_matrix\n",
    "\n",
    "print(\"\\n\\nConfusion matrix: \")\n",
    "print(confusion_matrix(y_test, predictions))\n",
    "\n",
    "\n",
    "print('\\nClassification Report is : ')\n",
    "print(classification_report(y_test, predictions))  "
   ]
  },
  {
   "cell_type": "code",
   "execution_count": null,
   "metadata": {},
   "outputs": [],
   "source": [
    "# Making a dataset and apply NVC algorithm"
   ]
  },
  {
   "cell_type": "code",
   "execution_count": 1,
   "metadata": {},
   "outputs": [],
   "source": [
    "import numpy as np\n",
    "import pandas as pd"
   ]
  },
  {
   "cell_type": "code",
   "execution_count": 2,
   "metadata": {},
   "outputs": [],
   "source": [
    "df = pd.read_csv(r\"C:\\Users\\PAROMITA\\Desktop\\DATASETS\\Play_dataset.csv\")"
   ]
  },
  {
   "cell_type": "code",
   "execution_count": 3,
   "metadata": {},
   "outputs": [],
   "source": [
    "x=df.drop([df.columns[-1]], axis = 1)\n",
    "\n",
    "y= df[df.columns[-1]]"
   ]
  },
  {
   "cell_type": "code",
   "execution_count": 4,
   "metadata": {},
   "outputs": [],
   "source": [
    "features = list(x.columns)"
   ]
  },
  {
   "cell_type": "code",
   "execution_count": 5,
   "metadata": {},
   "outputs": [],
   "source": [
    "x_train=x\n",
    "y_train=y\n",
    "train_size=x.shape[0]\n",
    "num_feats = x.shape[1]"
   ]
  },
  {
   "cell_type": "code",
   "execution_count": 6,
   "metadata": {},
   "outputs": [],
   "source": [
    "pred_priors={}\n",
    "class_priors={}\n",
    "likelihoods={}"
   ]
  },
  {
   "cell_type": "code",
   "execution_count": 7,
   "metadata": {},
   "outputs": [],
   "source": [
    "for feature in features:\n",
    "    likelihoods[feature]= {}\n",
    "    pred_priors[feature] = {}\n",
    "    \n",
    "    for feat_val in np.unique(x_train[feature]):\n",
    "        pred_priors[feature].update({feat_val:0})\n",
    "        \n",
    "        for outcome in np.unique(y_train):\n",
    "            likelihoods[feature].update({feat_val+'_'+outcome:0})\n",
    "            class_priors.update({outcome:0})"
   ]
  },
  {
   "cell_type": "code",
   "execution_count": 8,
   "metadata": {},
   "outputs": [],
   "source": [
    "for outcome in np.unique(y_train):\n",
    "    outcome_count = sum(y_train == outcome)\n",
    "    class_priors[outcome] = outcome_count/train_size"
   ]
  },
  {
   "cell_type": "code",
   "execution_count": 9,
   "metadata": {},
   "outputs": [],
   "source": [
    "\n",
    "for feature in features:\n",
    "    for outcome in np.unique(y_train):\n",
    "        outcome_count= sum(y_train==outcome)\n",
    "        feat_likelihood = x_train[feature][y_train[y_train==outcome].index.values.tolist()].value_counts().to_dict()\n",
    "        \n",
    "        for feat_val, count in feat_likelihood.items():\n",
    "            likelihoods[feature][feat_val + '_' + outcome]= count/outcome_count"
   ]
  },
  {
   "cell_type": "code",
   "execution_count": 10,
   "metadata": {},
   "outputs": [],
   "source": [
    "\n",
    "for feature in features:\n",
    "    feat_vals= x_train[feature].value_counts().to_dict()\n",
    "    \n",
    "    for feat_val, count in feat_vals.items():\n",
    "        pred_priors[feature][feat_val]= count/train_size"
   ]
  },
  {
   "cell_type": "code",
   "execution_count": 11,
   "metadata": {},
   "outputs": [
    {
     "name": "stdout",
     "output_type": "stream",
     "text": [
      "{'No': 0.6272000000000002, 'Yes': 0.36296296296296293}\n",
      "['No']\n"
     ]
    }
   ],
   "source": [
    "\n",
    "\n",
    "results = []\n",
    "qu = np.array([['Rainy','Cool','High','t']])\n",
    "qu= np.array(qu)\n",
    "\n",
    "m=0\n",
    "p=0\n",
    "\n",
    "for query in qu:\n",
    "    probs_outcome={}\n",
    "    for outcome in np.unique(y_train):\n",
    "        prior = class_priors[outcome]\n",
    "        likelihood =1\n",
    "        evidence =1\n",
    "        \n",
    "        \n",
    "        for feat, feat_val in zip(features, query):\n",
    "            likelihood*=likelihoods[feat][feat_val + '_'+ outcome]\n",
    "            evidence *= pred_priors[feat][feat_val]\n",
    "            \n",
    "        posterior = (likelihood * prior+ m*p) / (evidence+m)\n",
    "        probs_outcome[outcome]= posterior\n",
    "    print(probs_outcome)\n",
    "    result= max(probs_outcome, key = lambda X: probs_outcome[X])\n",
    "    results.append(result)\n",
    "    \n",
    "print(results)"
   ]
  },
  {
   "cell_type": "code",
   "execution_count": null,
   "metadata": {},
   "outputs": [],
   "source": []
  }
 ],
 "metadata": {
  "kernelspec": {
   "display_name": "Python 3",
   "language": "python",
   "name": "python3"
  },
  "language_info": {
   "codemirror_mode": {
    "name": "ipython",
    "version": 3
   },
   "file_extension": ".py",
   "mimetype": "text/x-python",
   "name": "python",
   "nbconvert_exporter": "python",
   "pygments_lexer": "ipython3",
   "version": "3.8.5"
  }
 },
 "nbformat": 4,
 "nbformat_minor": 4
}
